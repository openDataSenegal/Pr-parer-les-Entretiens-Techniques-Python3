{
 "cells": [
  {
   "cell_type": "markdown",
   "metadata": {},
   "source": [
    "# BIBLIOTEQUES ET LIBRAIRIES NECESSAIRES"
   ]
  },
  {
   "cell_type": "markdown",
   "metadata": {},
   "source": [
    "#### This notebook contains some Hackerrank problems that I solved for fun. I hope this will help you prepare for your interview. The solution is not optimized):"
   ]
  },
  {
   "cell_type": "markdown",
   "metadata": {},
   "source": [
    "# Library"
   ]
  },
  {
   "cell_type": "code",
   "execution_count": 6,
   "metadata": {},
   "outputs": [],
   "source": [
    "import math\n",
    "import os\n",
    "import random\n",
    "import re\n",
    "import sys"
   ]
  },
  {
   "cell_type": "markdown",
   "metadata": {},
   "source": [
    "# Variables"
   ]
  },
  {
   "cell_type": "code",
   "execution_count": null,
   "metadata": {},
   "outputs": [],
   "source": []
  },
  {
   "cell_type": "code",
   "execution_count": null,
   "metadata": {},
   "outputs": [],
   "source": []
  },
  {
   "cell_type": "code",
   "execution_count": null,
   "metadata": {},
   "outputs": [],
   "source": []
  },
  {
   "cell_type": "code",
   "execution_count": null,
   "metadata": {},
   "outputs": [],
   "source": []
  },
  {
   "cell_type": "markdown",
   "metadata": {},
   "source": [
    "# Army Game"
   ]
  },
  {
   "cell_type": "markdown",
   "metadata": {},
   "source": [
    "#### Subject"
   ]
  },
  {
   "cell_type": "markdown",
   "metadata": {},
   "source": [
    "<img src=\"./HackerRankFile/armyGame1.png\" alt=\"Problem_1\" style=\"height: 900px; width:900px;\"/>\n",
    "<img src=\"./HackerRankFile/armyGame0.png\" alt=\"Problem_0\" style=\"height: 900px; width:900px;\"/>"
   ]
  },
  {
   "cell_type": "markdown",
   "metadata": {},
   "source": [
    "#### Solution"
   ]
  },
  {
   "cell_type": "code",
   "execution_count": null,
   "metadata": {},
   "outputs": [],
   "source": [
    "#\n",
    "# Complete the 'gameWithCells' function below.\n",
    "#\n",
    "# The function is expected to return an INTEGER.\n",
    "# The function accepts following parameters:\n",
    "#  1. INTEGER n\n",
    "#  2. INTEGER m\n",
    "#\n",
    "def gameWithCells(n, m):\n",
    "    \"\"\"\n",
    "        Solution\n",
    "    \"\"\"\n",
    "    # Write your code here\n",
    "    if((n%2 == 1) and (m%2 == 1) and (n>1) and (m>1)):\n",
    "        return int(((n-1)*(m-1))/4)+int(m/2)+(m%2)+int(n/2)\n",
    "    if((n == 1) and (m%2 == 1) and(m>1)):\n",
    "        return int(m/2)+1\n",
    "    if((m == 1) and (n%2 == 1) and(n>1)):\n",
    "        return int(n/2)+1\n",
    "    if(n%2 == 1):\n",
    "        return int(((n-1)*m)/4)+int(m/2)+(m%2)\n",
    "    if(m%2 == 1):\n",
    "        return int((n*(m-1))/4)+int(n/2)+(n%2)\n",
    "    return max(int((n*m)/4),1)\n",
    "\n",
    "\n",
    "if __name__ == '__main__':\n",
    "    fptr = open(os.environ['OUTPUT_PATH'], 'w')\n",
    "\n",
    "    first_multiple_input = input().rstrip().split()\n",
    "\n",
    "    n = int(first_multiple_input[0])\n",
    "\n",
    "    m = int(first_multiple_input[1])\n",
    "\n",
    "    result = gameWithCells(n, m)\n",
    "\n",
    "    fptr.write(str(result) + '\\n')\n",
    "\n",
    "    fptr.close()"
   ]
  },
  {
   "cell_type": "markdown",
   "metadata": {},
   "source": [
    "# Fizz Buzz"
   ]
  },
  {
   "cell_type": "markdown",
   "metadata": {},
   "source": [
    "#### Subject"
   ]
  },
  {
   "cell_type": "markdown",
   "metadata": {},
   "source": [
    "<img src=\"./HackerRankFile/fizzBuzz0.png\" alt=\"Problem_1\" style=\"height: 900px; width:900px;\"/>\n",
    "<img src=\"./HackerRankFile/fizzBuzz1.png\" alt=\"Problem_0\" style=\"height: 900px; width:900px;\"/>"
   ]
  },
  {
   "cell_type": "markdown",
   "metadata": {},
   "source": [
    "#### Solution"
   ]
  },
  {
   "cell_type": "code",
   "execution_count": null,
   "metadata": {},
   "outputs": [],
   "source": [
    "def fizzBuzz(n):\n",
    "    # Write your code here\n",
    "    for one_element in range(1,n+1):\n",
    "        if(one_element%3 ==0):\n",
    "            if(one_element%5 ==0):\n",
    "                print(\"FizzBuzz\")\n",
    "            else:\n",
    "                print(\"Fizz\")\n",
    "        else:\n",
    "            if(one_element%5 ==0):\n",
    "                print(\"Buzz\")\n",
    "            else:\n",
    "                print(one_element)"
   ]
  },
  {
   "cell_type": "markdown",
   "metadata": {},
   "source": [
    "# Twins"
   ]
  },
  {
   "cell_type": "markdown",
   "metadata": {},
   "source": [
    "#### Subject"
   ]
  },
  {
   "cell_type": "markdown",
   "metadata": {},
   "source": [
    "<img src=\"./HackerRankFile/twins0.png\" alt=\"Problem_0\" style=\"height: 900px; width:900px;\"/>"
   ]
  },
  {
   "cell_type": "markdown",
   "metadata": {},
   "source": [
    "#### Solution"
   ]
  },
  {
   "cell_type": "code",
   "execution_count": null,
   "metadata": {},
   "outputs": [],
   "source": [
    "#!/bin/python3\n",
    "import math\n",
    "import os\n",
    "import random\n",
    "import re\n",
    "import sys\n",
    "\n",
    "#\n",
    "# Complete the 'solve' function below.\n",
    "#\n",
    "# The function is expected to return an INTEGER.\n",
    "# The function accepts following parameters:\n",
    "#  1. INTEGER n\n",
    "#  2. INTEGER m\n",
    "#\n",
    "\n",
    "    \n",
    "def is_prime(n):\n",
    "    if n <= 1:\n",
    "        return False\n",
    "    if n == 2:\n",
    "        return True\n",
    "    if n > 2 and n % 2 == 0:\n",
    "        return False\n",
    " \n",
    "    max_div = math.floor(math.sqrt(n))\n",
    "    for i in range(3, 1 + max_div, 2):\n",
    "        if n % i == 0:\n",
    "            return False\n",
    "    return True\n",
    "\n",
    "    \n",
    "def SieveOfEratosthenes(minimum_primary, n):\n",
    "    prime = [True for i in range(n+1)]\n",
    "    list_primafry_number = []\n",
    "    p = 2\n",
    "    while(p * p <= n):\n",
    "        if (prime[p] == True):\n",
    "            for i in range(p * p, n + 1, p):\n",
    "                prime[i] = False\n",
    "        p += 1\n",
    " \n",
    "    for p in range(max(minimum_primary,2), n):\n",
    "        if prime[p]:\n",
    "            list_primafry_number.append(p)\n",
    "    return list_primafry_number\n",
    "\n",
    "    \n",
    "    \n",
    "def solve(n, m):\n",
    "    # Write your code here\n",
    "    number_of_tiws = 0\n",
    "    list_values_all = SieveOfEratosthenes(max(n,2), m+1) # sorted(list_values_all)\n",
    "\n",
    "    for first_value in list_values_all:\n",
    "        if(first_value+2 in list_values_all):\n",
    "            number_of_tiws+=1\n",
    "    return number_of_tiws\n",
    "        \n",
    "\n",
    "if __name__ == '__main__':\n",
    "    fptr = open(os.environ['OUTPUT_PATH'], 'w')\n",
    "\n",
    "    first_multiple_input = input().rstrip().split()\n",
    "\n",
    "    n = int(first_multiple_input[0])\n",
    "\n",
    "    m = int(first_multiple_input[1])\n",
    "\n",
    "    result = solve(n, m)\n",
    "\n",
    "    fptr.write(str(result) + '\\n')\n",
    "\n",
    "    fptr.close()"
   ]
  },
  {
   "cell_type": "markdown",
   "metadata": {},
   "source": [
    "# Correlation and Regression Lines - A Quick Recap #1"
   ]
  },
  {
   "cell_type": "markdown",
   "metadata": {},
   "source": [
    "#### Subject"
   ]
  },
  {
   "cell_type": "markdown",
   "metadata": {},
   "source": [
    "<img src=\"./HackerRankFile/CorrelationAndRegressionLines.png\" alt=\"Correlation And Regression Lines\" style=\"height: 700px; width:900px;\"/>"
   ]
  },
  {
   "cell_type": "markdown",
   "metadata": {},
   "source": [
    "#### Solution"
   ]
  },
  {
   "cell_type": "code",
   "execution_count": null,
   "metadata": {},
   "outputs": [],
   "source": [
    "import math\n",
    "\n",
    "\n",
    "def mean_list(list_to_mean):\n",
    "    \"\"\"\n",
    "    \"\"\"\n",
    "    return sum(list_to_mean)/len(list_to_mean)\n",
    "\n",
    "\n",
    "def different_between_two_vector(first_vector, second_vector):\n",
    "    \"\"\"\n",
    "    \"\"\"\n",
    "    result_diff = []\n",
    "    \n",
    "    for one_values in range(len(first_vector)):\n",
    "        result_diff.append(first_vector[one_values]-second_vector[one_values])\n",
    "    return result_diff\n",
    "\n",
    "\n",
    "def product_between_two_vector(first_vector, second_vector):\n",
    "    \"\"\"\n",
    "    \"\"\"\n",
    "    result_diff = []\n",
    "    \n",
    "    for one_values in range(len(first_vector)):\n",
    "        result_diff.append(first_vector[one_values]*second_vector[one_values])\n",
    "    return result_diff\n",
    "\n",
    "\n",
    "\n",
    "def karl_pearson_correlation(first_vector, second_vector):\n",
    "    \"\"\"\n",
    "        uses this function to comput Karl Pearson Correlation\n",
    "    \"\"\"\n",
    "\n",
    "    tamp1 = sum(product_between_two_vector(different_between_two_vector(first_vector,len(first_vector)*[mean_list(first_vector)]), different_between_two_vector(second_vector,len(second_vector)*[mean_list(second_vector)])))\n",
    "    tampon_values_first = different_between_two_vector(first_vector,len(first_vector)*[mean_list(first_vector)])\n",
    "    tampon_values_second = different_between_two_vector(second_vector,len(second_vector)*[mean_list(second_vector)])\n",
    "    tamp2 = math.sqrt(sum(product_between_two_vector(tampon_values_first,tampon_values_first))*sum(product_between_two_vector(tampon_values_second,tampon_values_second)))\n",
    "    if (tamp2 == 0.0):\n",
    "        if (first_vector == second_vector):\n",
    "            return 1.0\n",
    "        else:\n",
    "            return 0.0\n",
    "\n",
    "    return tamp1/tamp2\n",
    "\n",
    "first_vector = [15, 12, 8, 8, 7, 7, 7, 6, 5, 3]\n",
    "second_vector = [10, 25, 17, 11, 13, 17, 20, 13, 9, 15]\n",
    "print('%.3f' % round(karl_pearson_correlation(first_vector, second_vector),3))"
   ]
  },
  {
   "cell_type": "markdown",
   "metadata": {},
   "source": [
    "# Day 6: Multiple Linear Regression: Predicting House Prices"
   ]
  },
  {
   "cell_type": "markdown",
   "metadata": {},
   "source": [
    "#### Subject"
   ]
  },
  {
   "cell_type": "markdown",
   "metadata": {},
   "source": [
    "<img src=\"./HackerRankFile/Day6MultipleLinearRegressionPredictingHousePrices_0.png\" alt=\"Day 6: Multiple Linear Regression: Predicting House Prices 0\" style=\"height: 900px; width:900px;\"/>\n",
    "<img src=\"./HackerRankFile/Day6MultipleLinearRegressionPredictingHousePrices_1.png\" alt=\"Day 6: Multiple Linear Regression: Predicting House Prices 1\" style=\"height: 900px; width:900px;\"/>\n",
    "<img src=\"./HackerRankFile/Day6MultipleLinearRegressionPredictingHousePrices_2.png\" alt=\"Day 6: Multiple Linear Regression: Predicting House Prices 2\" style=\"height: 900px; width:900px;\"/>"
   ]
  },
  {
   "cell_type": "markdown",
   "metadata": {},
   "source": [
    "#### Solution"
   ]
  },
  {
   "cell_type": "code",
   "execution_count": null,
   "metadata": {},
   "outputs": [],
   "source": [
    "# https://github.com/derekhh/HackerRank/blob/master/predicting-house-prices.py\n",
    "from sklearn.linear_model import LinearRegression\n",
    "\n",
    "feature, number_line = input().split()\n",
    "feature = int(feature)\n",
    "number_line = int(number_line)\n",
    "\n",
    "linear_model_sklearn = LinearRegression()\n",
    "\n",
    "X_train = []\n",
    "Y_train = []\n",
    "\n",
    "for i in range(number_line):\n",
    "    tampon_element = [float(n) for n in input().split()]\n",
    "    X_train.append(tampon_element[0: len(tampon_element) - 1])\n",
    "    Y_train.append(tampon_element[len(tampon_element) - 1])\n",
    "\n",
    "linear_model_sklearn.fit(X_train, Y_train)\n",
    "\n",
    "X_test = []\n",
    "\n",
    "number_line_test = int(input())\n",
    "for i in range(number_line_test):\n",
    "    tampon_element = [float(number_line_test) for number_line_test in input().split()]\n",
    "    X_test.append(tampon_element)\n",
    "\n",
    "result_prediction = linear_model_sklearn.predict(X_test)\n",
    "for one_prediction in result_prediction:\n",
    "    print(one_prediction)"
   ]
  },
  {
   "cell_type": "markdown",
   "metadata": {},
   "source": [
    "# Correlation and Regression Lines - A Quick Recap #2"
   ]
  },
  {
   "cell_type": "markdown",
   "metadata": {},
   "source": [
    "#### Subject"
   ]
  },
  {
   "cell_type": "markdown",
   "metadata": {},
   "source": [
    "<img src=\"./HackerRankFile/CorrelationRegressionLinesAQuickRecap.png\" alt=\"Correlation Regression Lines A Quick Recap\" style=\"height: 400px; width:900px;\"/>"
   ]
  },
  {
   "cell_type": "markdown",
   "metadata": {},
   "source": [
    "#### Solution"
   ]
  },
  {
   "cell_type": "code",
   "execution_count": 142,
   "metadata": {},
   "outputs": [
    {
     "name": "stdout",
     "output_type": "stream",
     "text": [
      "0.208\n"
     ]
    }
   ],
   "source": [
    "# Enter your code here. Read input from STDIN. Print output to STDOUT\n",
    "import math\n",
    "\n",
    "def mean_list(list_to_mean):\n",
    "    \"\"\"\n",
    "    \"\"\"\n",
    "    return sum(list_to_mean)/len(list_to_mean)\n",
    "\n",
    "def different_between_two_vector(first_vector, second_vector):\n",
    "    \"\"\"\n",
    "    \"\"\"\n",
    "    result_diff = []\n",
    "    \n",
    "    for one_values in range(len(first_vector)):\n",
    "        result_diff.append(first_vector[one_values]-second_vector[one_values])\n",
    "    return result_diff\n",
    "\n",
    "\n",
    "def product_between_two_vector(first_vector, second_vector):\n",
    "    \"\"\"\n",
    "    \"\"\"\n",
    "    result_diff = []\n",
    "    \n",
    "    for one_values in range(len(first_vector)):\n",
    "        result_diff.append(first_vector[one_values]*second_vector[one_values])\n",
    "    return result_diff\n",
    "\n",
    "    \n",
    "def compute_slope_regression(X, Y):\n",
    "    \"\"\"\n",
    "    \"\"\"\n",
    "    \n",
    "    #slope = 1\n",
    "    mean_x = mean_list(X)\n",
    "    mean_y = mean_list(Y)\n",
    "    return sum(product_between_two_vector(different_between_two_vector(X, len(X)*[mean_x]), different_between_two_vector(Y, len(Y)*[mean_y])))/sum(product_between_two_vector(different_between_two_vector(X, len(X)*[mean_x]), different_between_two_vector(X, len(X)*[mean_x])))    \n",
    "\n",
    "    \n",
    "physics_scores = [15, 12, 8, 8, 7, 7, 7, 6, 5, 3]\n",
    "history_scores = [10, 25, 17, 11, 13, 17, 20, 13, 9, 15]\n",
    "print('%.3f' % round(compute_slope_regression(physics_scores, history_scores),3))"
   ]
  },
  {
   "cell_type": "markdown",
   "metadata": {},
   "source": [
    "# Camel Case 4"
   ]
  },
  {
   "cell_type": "markdown",
   "metadata": {},
   "source": [
    "#### Subject"
   ]
  },
  {
   "cell_type": "markdown",
   "metadata": {},
   "source": [
    "<img src=\"./HackerRankFile/CamelCase40.png\" alt=\"Camel Case 4 0\" style=\"height: 900px; width:1000px;\"/>\n",
    "<img src=\"./HackerRankFile/CamelCase41.png\" alt=\"Camel Case 4 1\" style=\"height: 400px; width:900px;\"/>"
   ]
  },
  {
   "cell_type": "markdown",
   "metadata": {},
   "source": [
    "#### Solution"
   ]
  },
  {
   "cell_type": "code",
   "execution_count": null,
   "metadata": {},
   "outputs": [],
   "source": [
    "# Enter your code here. Read input from STDIN. Print output to STDOUT\n",
    "import re\n",
    "import os\n",
    " \n",
    "\n",
    "\n",
    "def camel_case_four(input_string):\n",
    "    \"\"\"\n",
    "    \"\"\"\n",
    "    \n",
    "    result_string = \"\"\n",
    "    split_input_result = input_string.split(\";\")\n",
    "    if(split_input_result[0] == \"S\"):\n",
    "        if(split_input_result[1] == \"C\"):\n",
    "            result_split_regex = re.findall('[A-Z][^A-Z]*', split_input_result[2])\n",
    "            #result_string = result_split_regex[0].lower()+\" \"+result_split_regex[1].lower()\n",
    "            result_string = result_split_regex[0].lower()\n",
    "            for one_result in range(1, len(result_split_regex)):\n",
    "                result_string += \" \"+result_split_regex[one_result].lower()\n",
    "        if(split_input_result[1] == \"M\"):\n",
    "            result_split_regex = re.split('(?=[A-Z])', split_input_result[2])\n",
    "            result_string = result_split_regex[0].lower()\n",
    "            for one_result in range(1, len(result_split_regex)):\n",
    "                result_string += \" \"+result_split_regex[one_result].lower()\n",
    "            result_string = result_string[:-2].lower()\n",
    "        if(split_input_result[1] == \"V\"):\n",
    "            result_split_regex = re.split('(?=[A-Z])', split_input_result[2])\n",
    "            result_string = result_split_regex[0].lower()\n",
    "            for one_result in range(1, len(result_split_regex)):\n",
    "                result_string += \" \"+result_split_regex[one_result].lower()\n",
    "            \n",
    "    if(split_input_result[0] == \"C\"):\n",
    "        result_split_regex = split_input_result[2].split(\" \")\n",
    "        if(split_input_result[1] == \"C\"):\n",
    "            for one_result in result_split_regex:\n",
    "                result_string += one_result[0].upper()+one_result[1:].lower()\n",
    "        if(split_input_result[1] == \"M\"):\n",
    "            result_string = result_split_regex[0].lower()\n",
    "            for one_result in range(1, len(result_split_regex)):\n",
    "                result_string += result_split_regex[one_result][0].upper()+result_split_regex[one_result][1:]\n",
    "            result_string +=\"()\"\n",
    "        if(split_input_result[1] == \"V\"):\n",
    "            result_string = result_split_regex[0].lower()\n",
    "            for one_result in range(1, len(result_split_regex)):\n",
    "                result_string += result_split_regex[one_result][0].upper()+result_split_regex[one_result][1:]\n",
    "    return result_string\n",
    "\n",
    "    \n",
    "fptr = open(os.environ['OUTPUT_PATH'], 'w')\n",
    "while True:\n",
    "    try:\n",
    "        first_multiple_input = input().rstrip().split()\n",
    "    except:\n",
    "        break\n",
    "    n = \" \".join(first_multiple_input)\n",
    "    result = camel_case_four(n)\n",
    "    fptr.write(str(result) + '\\n')\n",
    "fptr.close()"
   ]
  },
  {
   "cell_type": "markdown",
   "metadata": {},
   "source": [
    "# Divisible Sum Pairs"
   ]
  },
  {
   "cell_type": "markdown",
   "metadata": {},
   "source": [
    "#### Subject"
   ]
  },
  {
   "cell_type": "markdown",
   "metadata": {},
   "source": [
    "<img src=\"./HackerRankFile/DivisibleSumPairs0.png\" alt=\"Divisible Sum Pairs\" style=\"height: 900px; width:900px;\"/>\n",
    "<img src=\"./HackerRankFile/DivisibleSumPairs1.png\" alt=\"Divisible Sum Pairs\" style=\"height: 400px; width:900px;\"/>"
   ]
  },
  {
   "cell_type": "markdown",
   "metadata": {},
   "source": [
    "#### Solution"
   ]
  },
  {
   "cell_type": "code",
   "execution_count": null,
   "metadata": {},
   "outputs": [],
   "source": [
    "def divisibleSumPairs(n, k, ar):\n",
    "    # Write your code here\n",
    "    number_of_pair = 0\n",
    "    \n",
    "    for first_el in range(n-1):\n",
    "        for second_el in range(first_el+1, n):\n",
    "            if((ar[first_el]+ar[second_el])%k == 0):\n",
    "                number_of_pair+=1\n",
    "    return number_of_pair\n",
    "\n",
    "if __name__ == '__main__':\n",
    "    fptr = open(os.environ['OUTPUT_PATH'], 'w')\n",
    "\n",
    "    first_multiple_input = input().rstrip().split()\n",
    "\n",
    "    n = int(first_multiple_input[0])\n",
    "\n",
    "    k = int(first_multiple_input[1])\n",
    "\n",
    "    ar = list(map(int, input().rstrip().split()))\n",
    "\n",
    "    result = divisibleSumPairs(n, k, ar)\n",
    "\n",
    "    fptr.write(str(result) + '\\n')\n",
    "\n",
    "    fptr.close()\n"
   ]
  },
  {
   "cell_type": "markdown",
   "metadata": {},
   "source": [
    "# Correlation and Regression Lines - A quick recap #3"
   ]
  },
  {
   "cell_type": "markdown",
   "metadata": {},
   "source": [
    "#### Subject"
   ]
  },
  {
   "cell_type": "markdown",
   "metadata": {},
   "source": [
    "<img src=\"./HackerRankFile/CorrelationAndRegressionLinesAquickrecap30.png\" alt=\"Correlation and Regression Lines - A quick recap #3\" style=\"height: 400px; width:900px;\"/>"
   ]
  },
  {
   "cell_type": "markdown",
   "metadata": {},
   "source": [
    "#### Solution"
   ]
  },
  {
   "cell_type": "code",
   "execution_count": null,
   "metadata": {},
   "outputs": [],
   "source": [
    "# Enter your code here. Read input from STDIN. Print output to STDOUT\n",
    "import math\n",
    "\n",
    "def mean_list(list_to_mean):\n",
    "    \"\"\"\n",
    "    \"\"\"\n",
    "    return sum(list_to_mean)/len(list_to_mean)\n",
    "\n",
    "def different_between_two_vector(first_vector, second_vector):\n",
    "    \"\"\"\n",
    "    \"\"\"\n",
    "    result_diff = []\n",
    "    \n",
    "    for one_values in range(len(first_vector)):\n",
    "        result_diff.append(first_vector[one_values]-second_vector[one_values])\n",
    "    return result_diff\n",
    "\n",
    "\n",
    "def product_between_two_vector(first_vector, second_vector):\n",
    "    \"\"\"\n",
    "    \"\"\"\n",
    "    result_diff = []\n",
    "    \n",
    "    for one_values in range(len(first_vector)):\n",
    "        result_diff.append(first_vector[one_values]*second_vector[one_values])\n",
    "    return result_diff\n",
    "\n",
    "    \n",
    "def compute_coef_regression(X, Y):\n",
    "    \"\"\"\n",
    "        Y = A+BX\n",
    "    \"\"\"\n",
    "    \n",
    "    mean_x = mean_list(X)\n",
    "    mean_y = mean_list(Y)\n",
    "    \n",
    "    cov_X_Y = sum(product_between_two_vector(different_between_two_vector(X, len(X)*[mean_x]), different_between_two_vector(Y, len(Y)*[mean_y])))\n",
    "    var_X = sum(product_between_two_vector(different_between_two_vector(X, len(X)*[mean_x]), different_between_two_vector(X, len(X)*[mean_x])))\n",
    "    \n",
    "    B = cov_X_Y/var_X\n",
    "    A = mean_y- B*mean_x\n",
    "    return A, B    \n",
    "\n",
    "\n",
    "physics_scores = [15, 12, 8, 8, 7, 7, 7, 6, 5, 3]\n",
    "history_scores = [10, 25, 17, 11, 13, 17, 20, 13, 9, 15]\n",
    "A, B = compute_coef_regression(physics_scores, history_scores)\n",
    "print('%.3f' % round(A+B*10,3))"
   ]
  },
  {
   "cell_type": "markdown",
   "metadata": {},
   "source": [
    "# Correlation and Regression Lines - A Quick Recap #4"
   ]
  },
  {
   "cell_type": "markdown",
   "metadata": {},
   "source": [
    "#### Subject"
   ]
  },
  {
   "cell_type": "markdown",
   "metadata": {},
   "source": [
    "<img src=\"./HackerRankFile/CorrelationandRegressionLinesAQuickRecap4_0.png\" alt=\"Correlation and Regression Lines - A Quick Recap #4\" style=\"height: 400px; width:900px;\"/>"
   ]
  },
  {
   "cell_type": "markdown",
   "metadata": {},
   "source": [
    "#### Solution"
   ]
  },
  {
   "cell_type": "code",
   "execution_count": null,
   "metadata": {},
   "outputs": [],
   "source": [
    "# Enter your code here. Read input from STDIN. Print output to STDOUT\n",
    "print(round((107+9*7)/20,1))"
   ]
  },
  {
   "cell_type": "markdown",
   "metadata": {},
   "source": [
    "# Day 5: Computing the Correlation"
   ]
  },
  {
   "cell_type": "markdown",
   "metadata": {},
   "source": [
    "#### Subject"
   ]
  },
  {
   "cell_type": "markdown",
   "metadata": {},
   "source": [
    "<img src=\"./HackerRankFile/Day5ComputingTheCorrelation0.png\" alt=\"Day 5: Computing the Correlation 0\" style=\"height: 900px; width:900px;\"/>\n",
    "<img src=\"./HackerRankFile/Day5ComputingTheCorrelation1.png\" alt=\"Day 5: Computing the Correlation 1\" style=\"height: 900px; width:900px;\"/>\n",
    "<img src=\"./HackerRankFile/Day5ComputingTheCorrelation2.png\" alt=\"Day 5: Computing the Correlation 2\" style=\"height: 200px; width:900px;\"/>"
   ]
  },
  {
   "cell_type": "markdown",
   "metadata": {},
   "source": [
    "#### Solution"
   ]
  },
  {
   "cell_type": "code",
   "execution_count": null,
   "metadata": {},
   "outputs": [],
   "source": [
    "# Enter your code here. Read input from STDIN. Print output to STDOUT\n",
    "# Processing Data \n",
    "import os\n",
    "import math\n",
    "\n",
    "input_data_all = \"\"\"73  72  76\n",
    "48  67  76\n",
    "95  92  95\n",
    "95  95  96\n",
    "33  59  79\n",
    "47  58  74\n",
    "98  95  97\n",
    "91  94  97\n",
    "95  84  90\n",
    "93  83  90\n",
    "70  70  78\n",
    "85  79  91\n",
    "33  67  76\n",
    "47  73  90\n",
    "95  87  95\n",
    "84  86  95\n",
    "43  63  75\n",
    "95  92  100\n",
    "54  80  87\n",
    "72  76  90\"\"\"\n",
    "input_data_all = input_data_all.split(\"\\n\")\n",
    "\n",
    "M = []\n",
    "P = []\n",
    "C = []\n",
    "for one_element in input_data_all:\n",
    "    split_element = one_element.split(\" \")\n",
    "    M.append(int(split_element[0]))\n",
    "    P.append(int(split_element[2]))\n",
    "    C.append(int(split_element[4]))\n",
    "    \n",
    "\n",
    "def mean_list(list_to_mean):\n",
    "    \"\"\"\n",
    "    \"\"\"\n",
    "    return sum(list_to_mean)/len(list_to_mean)\n",
    "\n",
    "    \n",
    "def different_between_two_vector(first_vector, second_vector):\n",
    "    \"\"\"\n",
    "    \"\"\"\n",
    "    result_diff = []\n",
    "    \n",
    "    for one_values in range(len(first_vector)):\n",
    "        result_diff.append(first_vector[one_values]-second_vector[one_values])\n",
    "    return result_diff\n",
    "\n",
    "\n",
    "def product_between_two_vector(first_vector, second_vector):\n",
    "    \"\"\"\n",
    "    \"\"\"\n",
    "    result_diff = []\n",
    "    \n",
    "    for one_values in range(len(first_vector)):\n",
    "        result_diff.append(first_vector[one_values]*second_vector[one_values])\n",
    "    return result_diff\n",
    "\n",
    "    \n",
    "def compute_correlation(X, Y):\n",
    "    \"\"\"\n",
    "    \"\"\"\n",
    "    \n",
    "    mean_x = mean_list(X)\n",
    "    mean_y = mean_list(Y)\n",
    "    \n",
    "    cov_X_Y = sum(product_between_two_vector(different_between_two_vector(X, len(X)*[mean_x]), different_between_two_vector(Y, len(Y)*[mean_y])))\n",
    "    var_X = sum(product_between_two_vector(different_between_two_vector(X, len(X)*[mean_x]), different_between_two_vector(X, len(X)*[mean_x])))\n",
    "    var_Y = sum(product_between_two_vector(different_between_two_vector(Y, len(Y)*[mean_y]), different_between_two_vector(Y, len(X)*[mean_y])))\n",
    "    return cov_X_Y/math.sqrt(var_X*var_Y)\n",
    "\n",
    "print('%.2f' % round(compute_correlation(M, P),2))\n",
    "print('%.2f' % round(compute_correlation(P, C),2))\n",
    "print('%.2f' % round(compute_correlation(M, C),2))"
   ]
  },
  {
   "cell_type": "markdown",
   "metadata": {},
   "source": [
    "# Document Classification"
   ]
  },
  {
   "cell_type": "markdown",
   "metadata": {},
   "source": [
    "#### Subject"
   ]
  },
  {
   "cell_type": "markdown",
   "metadata": {},
   "source": [
    "<img src=\"./HackerRankFile/DocumentClassification0.png\" alt=\"Document Classification\" style=\"height: 900px; width:900px;\"/>"
   ]
  },
  {
   "cell_type": "markdown",
   "metadata": {},
   "source": [
    "#### Solution"
   ]
  },
  {
   "cell_type": "code",
   "execution_count": 1,
   "metadata": {},
   "outputs": [],
   "source": [
    "# Enter your code here. Read input from STDIN. Print output to STDOUT\n",
    "import nltk\n",
    "import warnings\n",
    "import pandas as pd\n",
    "from sklearn.metrics import f1_score\n",
    "from sklearn.pipeline import Pipeline\n",
    "from sklearn.svm import SVC, LinearSVC\n",
    "from sklearn.multiclass import OneVsRestClassifier\n",
    "from sklearn.linear_model import LogisticRegression\n",
    "from sklearn.model_selection import train_test_split\n",
    "from sklearn.feature_extraction.text import TfidfVectorizer\n",
    "from sklearn.feature_extraction.text import CountVectorizer\n",
    "from sklearn.metrics import accuracy_score, confusion_matrix, multilabel_confusion_matrix, classification_report\n",
    "\n",
    "stop_word_english_list = ['i',\n",
    " 'me', 'my',\n",
    " 'myself', 'we',\n",
    " 'our', 'ours',\n",
    " 'ourselves', 'you',\n",
    " \"you're\", \"you've\",\n",
    " \"you'll\", \"you'd\",\n",
    " 'your', 'yours', 'yourself', 'yourselves',\n",
    " 'he', 'him', 'his', 'himself',\n",
    " 'she', \"she's\", 'her', 'hers',\n",
    " 'herself', 'it', \"it's\", 'its',\n",
    " 'itself', 'they', 'them',\n",
    " 'their', 'theirs',\n",
    " 'themselves', 'what', 'which',\n",
    " 'who', 'whom', 'this',\n",
    " 'that', \"that'll\",\n",
    " 'these', 'those',\n",
    " 'am', 'is', 'are', 'was',\n",
    " 'were', 'be', 'been', 'being',\n",
    " 'have', 'has', 'had', 'having',\n",
    " 'do', 'does', 'did', 'doing',\n",
    " 'a', 'an', 'the', 'and',\n",
    " 'but', 'if', 'or', 'because',\n",
    " 'as', 'until', 'while', 'of',\n",
    " 'at', 'by', 'for', 'with', 'about',\n",
    " 'against', 'between', 'into', 'through',\n",
    " 'during', 'before', 'after',\n",
    " 'above', 'below',\n",
    " 'to', 'from',\n",
    " 'up', 'down',\n",
    " 'in', 'out',\n",
    " 'on', 'off',\n",
    " 'over', 'under',\n",
    " 'again', 'further',\n",
    " 'then', 'once',\n",
    " 'here', 'there',\n",
    " 'when', 'where',\n",
    " 'why', 'how',\n",
    " 'all', 'any', 'both', 'each', 'few', 'more', 'most', 'other', 'some', 'such',\n",
    " 'no', 'nor', 'not', 'only',\n",
    " 'own', 'same', 'so', 'than',\n",
    " 'too', 'very', 's', 't', 'can', 'will', 'just', 'don', \"don't\", 'should', \"should've\", 'now', 'd', 'll', 'm', 'o', 're', 've', 'y', 'ain', 'aren', \"aren't\", 'couldn', \"couldn't\", 'didn', \"didn't\", 'doesn', \"doesn't\", 'hadn', \"hadn't\", 'hasn', \"hasn't\", 'haven', \"haven't\", 'isn', \"isn't\", 'ma', 'mightn', \"mightn't\",\n",
    " 'mustn', \"mustn't\", 'needn', \"needn't\", 'shan', \"shan't\", 'shouldn', \"shouldn't\",\n",
    " 'wasn', \"wasn't\", 'weren', \"weren't\", 'won', \"won't\", 'wouldn', \"wouldn't\"]\n",
    " \n",
    "warnings.filterwarnings('ignore')\n",
    "\n",
    "trainingdata_pandas = pd.read_csv(\"HackerRankFile/trainingdata.txt\", sep=\"\\n\")\n",
    "trainingdata_pandas['Document_Containt'] = trainingdata_pandas.apply(lambda row: row[\"5485\"][2:], axis = 1)\n",
    "trainingdata_pandas[\"Label_Document\"] = trainingdata_pandas.apply(lambda row: row[\"5485\"][0:1], axis = 1)\n",
    "del trainingdata_pandas[\"5485\"]\n",
    "\n",
    "logistic_regression_bag_word_pipeline = Pipeline([('bagOfWord', CountVectorizer(stop_words=stop_word_english_list, ngram_range=(1, 1))),\n",
    "                       ('nb_model', OneVsRestClassifier(LogisticRegression(C=10)))])\n",
    "                       \n",
    "logistic_regression_bag_word_pipeline.fit(trainingdata_pandas[\"Document_Containt\"].values, trainingdata_pandas[\"Label_Document\"].values)\n",
    "\n",
    "\n",
    "# Test input\n",
    "number_line = input().split()\n",
    "number_line = int(number_line[0])\n",
    "\n",
    "texte_input = []\n",
    "for i in range(number_line):\n",
    "    texte_input.append(input())\n",
    "    \n",
    "prediction_result = logistic_regression_bag_word_pipeline.predict(texte_input)\n",
    "for one_element in prediction_result:\n",
    "    print(one_element)"
   ]
  },
  {
   "cell_type": "code",
   "execution_count": null,
   "metadata": {},
   "outputs": [],
   "source": []
  },
  {
   "cell_type": "markdown",
   "metadata": {},
   "source": [
    "# Weather Observation Station 8"
   ]
  },
  {
   "cell_type": "markdown",
   "metadata": {},
   "source": [
    "#### Subject"
   ]
  },
  {
   "cell_type": "markdown",
   "metadata": {},
   "source": [
    "<img src=\"./HackerRankFile/WeatherObservationStation8.png\" alt=\"Weather Observation Station 8\" style=\"height: 400px; width:500px;\"/>"
   ]
  },
  {
   "cell_type": "markdown",
   "metadata": {},
   "source": [
    "#### Solution"
   ]
  },
  {
   "cell_type": "code",
   "execution_count": null,
   "metadata": {},
   "outputs": [],
   "source": [
    "/*\n",
    "    Enter your query here and follow these instructions:\n",
    "    1. Please append a semicolon \";\" at the end of the query and enter your query in a single line to avoid error.\n",
    "    2. The AS keyword causes errors, so follow this convention: \"Select t.Field From table1 t\" instead of \"select t.Field From table1 AS t\"\n",
    "    3. Type your code immediately after comment. Don't leave any blank line.\n",
    "*/\n",
    "SELECT CITY FROM STATION WHERE ((CITY LIKE '%a') OR (CITY LIKE '%e') OR (CITY LIKE '%i') OR (CITY LIKE '%o') OR (CITY LIKE '%u')) AND ((CITY LIKE 'A%') OR (CITY LIKE 'E%') OR (CITY LIKE 'I%') OR (CITY LIKE 'O%') OR (CITY LIKE 'U%'));"
   ]
  },
  {
   "cell_type": "markdown",
   "metadata": {},
   "source": [
    "# Filling in Data"
   ]
  },
  {
   "cell_type": "markdown",
   "metadata": {},
   "source": [
    "#### Subject"
   ]
  },
  {
   "cell_type": "markdown",
   "metadata": {},
   "source": [
    "<img src=\"./HackerRankFile/FillingInData0.png\" alt=\"Filling in Data\" style=\"height: 600px; width:900px;\"/>\n",
    "<img src=\"./HackerRankFile/FillinginData1.png\" alt=\"Filling in Data\" style=\"height: 600px; width:900px;\"/>\n",
    "<img src=\"./HackerRankFile/FillinginData2.png\" alt=\"Filling in Data\" style=\"height: 600px; width:900px;\"/>"
   ]
  },
  {
   "cell_type": "markdown",
   "metadata": {},
   "source": [
    "#### Solution"
   ]
  },
  {
   "cell_type": "code",
   "execution_count": null,
   "metadata": {},
   "outputs": [],
   "source": [
    "#!/bin/python3\n",
    "\n",
    "import math\n",
    "import os\n",
    "import random\n",
    "import re\n",
    "import sys\n",
    "\n",
    "\n",
    "\n",
    "#\n",
    "# Complete the 'calcMissing' function below.\n",
    "#\n",
    "# The function accepts STRING_ARRAY readings as parameter.\n",
    "#\n",
    "import pandas as pd\n",
    "import numpy as np\n",
    "from datetime import datetime\n",
    "\n",
    "\n",
    "def calcMissing(readings):\n",
    "    # Write your code here\n",
    "    date_values_list = []\n",
    "    temperature_values_list = []\n",
    "    date_values_list_missing_values = []\n",
    "    temperature_values_list_missing_values = []\n",
    "    \n",
    "    for one_values_list in readings:\n",
    "        split_one_values_list = one_values_list.split(\"\\t\")\n",
    "        if(\"Missing\" not in split_one_values_list[1]):\n",
    "            date_values_list.append(datetime.strptime(split_one_values_list[0], '%m/%d/%Y %H:%M:%S'))\n",
    "            temperature_values_list.append(float(split_one_values_list[1]))\n",
    "        else:\n",
    "            date_values_list.append(datetime.strptime(split_one_values_list[0], '%m/%d/%Y %H:%M:%S'))\n",
    "            temperature_values_list.append(np.nan)\n",
    "            \n",
    "            date_values_list_missing_values.append(datetime.strptime(split_one_values_list[0], '%m/%d/%Y %H:%M:%S'))\n",
    "            temperature_values_list_missing_values.append(split_one_values_list[1])\n",
    "    data_frame_training = pd.DataFrame(list(zip(date_values_list, temperature_values_list)), columns = [\"DatetimeValues\", \"ValuesTemperature\"])\n",
    "    data_frame_testing = pd.DataFrame(list(zip(date_values_list_missing_values, temperature_values_list_missing_values)), columns = [\"DatetimeValues\", \"ValuesTemperature\"])\n",
    "\n",
    "    data_frame_training['ValuesTemperature'].interpolate(method='linear', inplace=True)\n",
    "    final_result_all = list(data_frame_training[data_frame_training['DatetimeValues'].isin(data_frame_testing[\"DatetimeValues\"].values)][\"ValuesTemperature\"].values)\n",
    "    if(np.isnan(final_result_all[0])):\n",
    "        final_result_all[0] = final_result_all[1]\n",
    "        \n",
    "    for one_element in final_result_all:\n",
    "        print(round(one_element,3))\n",
    "\n",
    "if __name__ == '__main__':\n",
    "    readings_count = int(input().strip())\n",
    "\n",
    "    readings = []\n",
    "\n",
    "    for _ in range(readings_count):\n",
    "        readings_item = input()\n",
    "        readings.append(readings_item)\n",
    "\n",
    "    calcMissing(readings)"
   ]
  },
  {
   "cell_type": "markdown",
   "metadata": {},
   "source": [
    "# How Many Flips"
   ]
  },
  {
   "cell_type": "markdown",
   "metadata": {},
   "source": [
    "#### Subject"
   ]
  },
  {
   "cell_type": "code",
   "execution_count": null,
   "metadata": {},
   "outputs": [],
   "source": [
    "<img src=\"./HackerRankFile/CorrelationAndRegressionLines.png\" alt=\"Correlation And Regression Lines\" style=\"height: 900px; width:900px;\"/>"
   ]
  },
  {
   "cell_type": "markdown",
   "metadata": {},
   "source": [
    "#### Solution"
   ]
  },
  {
   "cell_type": "code",
   "execution_count": null,
   "metadata": {},
   "outputs": [],
   "source": [
    "def theFinalProblem(target):\n",
    "    # Write your code here\n",
    "    minimum_flip = 0\n",
    "    init_flip = '1'\n",
    "    for one_element in target:\n",
    "        if(init_flip == one_element):\n",
    "            minimum_flip+=1\n",
    "            if(init_flip == '1'):\n",
    "                init_flip= '0'\n",
    "            else:\n",
    "                init_flip = '1'\n",
    "            \n",
    "    return minimum_flip"
   ]
  },
  {
   "cell_type": "markdown",
   "metadata": {},
   "source": [
    "# Predicting The Missing Humidity Values"
   ]
  },
  {
   "cell_type": "markdown",
   "metadata": {},
   "source": [
    "#### Subject"
   ]
  },
  {
   "cell_type": "code",
   "execution_count": null,
   "metadata": {},
   "outputs": [],
   "source": [
    "\"MISSING SUBJECT SORRY\""
   ]
  },
  {
   "cell_type": "markdown",
   "metadata": {},
   "source": [
    "#### Solution"
   ]
  },
  {
   "cell_type": "code",
   "execution_count": null,
   "metadata": {},
   "outputs": [],
   "source": [
    "#!/bin/python3\n",
    "\n",
    "import math\n",
    "import os\n",
    "import random\n",
    "import re\n",
    "import sys\n",
    "\n",
    "\n",
    "\n",
    "#\n",
    "# Complete the 'predictMissingHumidity' function below.\n",
    "#\n",
    "# The function is expected to return a FLOAT_ARRAY.\n",
    "# The function accepts following parameters:\n",
    "#  1. STRING startDate\n",
    "#  2. STRING endDate\n",
    "#  3. STRING_ARRAY knownTimestamps\n",
    "#  4. FLOAT_ARRAY humidity\n",
    "#  5. STRING_ARRAY timestamps\n",
    "#\n",
    "import pandas as pd\n",
    "import numpy as np\n",
    "from datetime import datetime\n",
    "\n",
    "def predictMissingHumidity(startDate, endDate, knownTimestamps, humidity, timestamps):\n",
    "    # Write your code here\n",
    "    \n",
    "    knownTimestamps_transformer = []\n",
    "    timestamps_transformer = []\n",
    "    for one_knownTimestamps in knownTimestamps:\n",
    "        knownTimestamps_transformer.append(datetime.strptime(one_knownTimestamps, '%Y-%m-%d %H:%M'))\n",
    "    for one_timestamps in timestamps:\n",
    "        timestamps_transformer.append(datetime.strptime(one_timestamps, '%Y-%m-%d %H:%M'))\n",
    "        \n",
    "        \n",
    "    data_frame_training = pd.DataFrame(list(zip(knownTimestamps_transformer, humidity)), columns = [\"DatetimeValues\", \"ValuesHumidity\"])\n",
    "    humidity_values = [np.nan]*len(timestamps)\n",
    "    data_frame_testing = pd.DataFrame(list(zip(timestamps_transformer, humidity_values)), columns = [\"DatetimeValues\", \"ValuesHumidity\"])\n",
    "\n",
    "    data_frame = pd.concat([data_frame_training, data_frame_testing])\n",
    "    data_frame = data_frame.sort_values(by='DatetimeValues')\n",
    "    data_frame['ValuesHumidity'].interpolate(method='linear', inplace=True)\n",
    "    \n",
    "    \n",
    "    final_result_all = list(data_frame[data_frame['DatetimeValues'].isin(data_frame_testing[\"DatetimeValues\"].values)][\"ValuesHumidity\"].values)\n",
    "    if(np.isnan(final_result_all[0])):\n",
    "        final_result_all[0] = final_result_all[1]\n",
    "        \n",
    "    return final_result_all\n",
    "\n",
    "if __name__ == '__main__':\n",
    "    fptr = open(os.environ['OUTPUT_PATH'], 'w')\n",
    "\n",
    "    startDate = input()\n",
    "\n",
    "    endDate = input()\n",
    "\n",
    "    knownTimestamps_count = int(input().strip())\n",
    "\n",
    "    knownTimestamps = []\n",
    "\n",
    "    for _ in range(knownTimestamps_count):\n",
    "        knownTimestamps_item = input()\n",
    "        knownTimestamps.append(knownTimestamps_item)\n",
    "\n",
    "    humidity_count = int(input().strip())\n",
    "\n",
    "    humidity = []\n",
    "\n",
    "    for _ in range(humidity_count):\n",
    "        humidity_item = float(input().strip())\n",
    "        humidity.append(humidity_item)\n",
    "\n",
    "    timestamps_count = int(input().strip())\n",
    "\n",
    "    timestamps = []\n",
    "\n",
    "    for _ in range(timestamps_count):\n",
    "        timestamps_item = input()\n",
    "        timestamps.append(timestamps_item)\n",
    "\n",
    "    result = predictMissingHumidity(startDate, endDate, knownTimestamps, humidity, timestamps)\n",
    "\n",
    "    fptr.write('\\n'.join(map(str, result)))\n",
    "    fptr.write('\\n')\n",
    "\n",
    "    fptr.close()\n"
   ]
  },
  {
   "cell_type": "markdown",
   "metadata": {},
   "source": [
    "# Testing Encryption Validity"
   ]
  },
  {
   "cell_type": "markdown",
   "metadata": {},
   "source": [
    "#### Subject"
   ]
  },
  {
   "cell_type": "code",
   "execution_count": null,
   "metadata": {},
   "outputs": [],
   "source": [
    "\"MISSING SUBJECT SORRY\""
   ]
  },
  {
   "cell_type": "markdown",
   "metadata": {},
   "source": [
    "#### Solution"
   ]
  },
  {
   "cell_type": "code",
   "execution_count": null,
   "metadata": {},
   "outputs": [],
   "source": [
    "# This solution doesnt passe test 15\n",
    "#!/bin/python3\n",
    "\n",
    "import math\n",
    "import os\n",
    "import random\n",
    "import re\n",
    "import sys\n",
    "\n",
    "\n",
    "\n",
    "#\n",
    "# Complete the 'encryptionValidity' function below.\n",
    "#\n",
    "# The function is expected to return an INTEGER_ARRAY.\n",
    "# The function accepts following parameters:\n",
    "#  1. INTEGER instructionCount\n",
    "#  2. INTEGER validityPeriod\n",
    "#  3. INTEGER_ARRAY keys\n",
    "#\n",
    "\n",
    "def encryptionValidity(instructionCount, validityPeriod, keys):\n",
    "    number_divisible = dict()\n",
    "    \n",
    "    tampon_list_keys = sorted(keys, reverse = True)\n",
    "    for one_keys_element in range(len(tampon_list_keys)):\n",
    "        if(tampon_list_keys[one_keys_element] in number_divisible):\n",
    "            continue\n",
    "        number_divisible[tampon_list_keys[one_keys_element]] = 1\n",
    "        for one_test_keys_element in range(one_keys_element+1, len(tampon_list_keys)):\n",
    "            if(tampon_list_keys[one_keys_element]%tampon_list_keys[one_test_keys_element]==0):\n",
    "                number_divisible[tampon_list_keys[one_keys_element]]+=1\n",
    "    \n",
    "                \n",
    "    encryption_strenght = max(list(number_divisible.values()))*pow(10,5)\n",
    "    number_keys_hijacker_can_test = instructionCount*validityPeriod\n",
    "    \n",
    "    if(number_keys_hijacker_can_test>=encryption_strenght):\n",
    "        return [1, encryption_strenght]\n",
    "    else:\n",
    "        return [0, encryption_strenght]\n",
    "    \n",
    "\n",
    "if __name__ == '__main__':\n",
    "    fptr = open(os.environ['OUTPUT_PATH'], 'w')\n",
    "\n",
    "    instructionCount = int(input().strip())\n",
    "\n",
    "    validityPeriod = int(input().strip())\n",
    "\n",
    "    keys_count = int(input().strip())\n",
    "\n",
    "    keys = []\n",
    "\n",
    "    for _ in range(keys_count):\n",
    "        keys_item = int(input().strip())\n",
    "        keys.append(keys_item)\n",
    "\n",
    "    result = encryptionValidity(instructionCount, validityPeriod, keys)\n",
    "\n",
    "    fptr.write('\\n'.join(map(str, result)))\n",
    "    fptr.write('\\n')\n",
    "\n",
    "    fptr.close()\n"
   ]
  },
  {
   "cell_type": "code",
   "execution_count": null,
   "metadata": {},
   "outputs": [],
   "source": [
    "# Correlation and Regression Lines - A Quick Recap #1"
   ]
  },
  {
   "cell_type": "code",
   "execution_count": null,
   "metadata": {},
   "outputs": [],
   "source": [
    "#### Subject"
   ]
  },
  {
   "cell_type": "code",
   "execution_count": null,
   "metadata": {},
   "outputs": [],
   "source": [
    "<img src=\"./HackerRankFile/CorrelationAndRegressionLines.png\" alt=\"Correlation And Regression Lines\" style=\"height: 900px; width:900px;\"/>"
   ]
  },
  {
   "cell_type": "code",
   "execution_count": null,
   "metadata": {},
   "outputs": [],
   "source": [
    "#### Solution"
   ]
  },
  {
   "cell_type": "code",
   "execution_count": null,
   "metadata": {},
   "outputs": [],
   "source": [
    "to do"
   ]
  },
  {
   "cell_type": "code",
   "execution_count": null,
   "metadata": {},
   "outputs": [],
   "source": [
    "# Correlation and Regression Lines - A Quick Recap #1"
   ]
  },
  {
   "cell_type": "code",
   "execution_count": null,
   "metadata": {},
   "outputs": [],
   "source": [
    "#### Subject"
   ]
  },
  {
   "cell_type": "code",
   "execution_count": null,
   "metadata": {},
   "outputs": [],
   "source": [
    "<img src=\"./HackerRankFile/CorrelationAndRegressionLines.png\" alt=\"Correlation And Regression Lines\" style=\"height: 900px; width:900px;\"/>"
   ]
  },
  {
   "cell_type": "code",
   "execution_count": null,
   "metadata": {},
   "outputs": [],
   "source": [
    "#### Solution"
   ]
  },
  {
   "cell_type": "code",
   "execution_count": null,
   "metadata": {},
   "outputs": [],
   "source": [
    "to do"
   ]
  },
  {
   "cell_type": "code",
   "execution_count": null,
   "metadata": {},
   "outputs": [],
   "source": []
  },
  {
   "cell_type": "code",
   "execution_count": null,
   "metadata": {},
   "outputs": [],
   "source": []
  },
  {
   "cell_type": "code",
   "execution_count": null,
   "metadata": {},
   "outputs": [],
   "source": []
  },
  {
   "cell_type": "code",
   "execution_count": null,
   "metadata": {},
   "outputs": [],
   "source": []
  },
  {
   "cell_type": "code",
   "execution_count": null,
   "metadata": {},
   "outputs": [],
   "source": []
  },
  {
   "cell_type": "code",
   "execution_count": null,
   "metadata": {},
   "outputs": [],
   "source": [
    "# To delete"
   ]
  },
  {
   "cell_type": "code",
   "execution_count": null,
   "metadata": {},
   "outputs": [],
   "source": [
    "# Correlation and Regression Lines - A Quick Recap #1"
   ]
  },
  {
   "cell_type": "code",
   "execution_count": null,
   "metadata": {},
   "outputs": [],
   "source": []
  },
  {
   "cell_type": "code",
   "execution_count": 77,
   "metadata": {},
   "outputs": [],
   "source": []
  },
  {
   "cell_type": "code",
   "execution_count": null,
   "metadata": {},
   "outputs": [],
   "source": []
  },
  {
   "cell_type": "code",
   "execution_count": null,
   "metadata": {},
   "outputs": [],
   "source": []
  },
  {
   "cell_type": "code",
   "execution_count": null,
   "metadata": {},
   "outputs": [],
   "source": []
  },
  {
   "cell_type": "code",
   "execution_count": null,
   "metadata": {},
   "outputs": [],
   "source": []
  },
  {
   "cell_type": "code",
   "execution_count": null,
   "metadata": {},
   "outputs": [],
   "source": []
  },
  {
   "cell_type": "code",
   "execution_count": null,
   "metadata": {},
   "outputs": [],
   "source": []
  },
  {
   "cell_type": "code",
   "execution_count": null,
   "metadata": {},
   "outputs": [],
   "source": []
  }
 ],
 "metadata": {
  "kernelspec": {
   "display_name": "Python 3",
   "language": "python",
   "name": "python3"
  },
  "language_info": {
   "codemirror_mode": {
    "name": "ipython",
    "version": 3
   },
   "file_extension": ".py",
   "mimetype": "text/x-python",
   "name": "python",
   "nbconvert_exporter": "python",
   "pygments_lexer": "ipython3",
   "version": "3.7.6"
  }
 },
 "nbformat": 4,
 "nbformat_minor": 4
}
