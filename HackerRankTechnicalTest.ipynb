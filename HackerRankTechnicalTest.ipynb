{
 "cells": [
  {
   "cell_type": "markdown",
   "metadata": {},
   "source": [
    "# BIBLIOTEQUES ET LIBRAIRIES NECESSAIRES"
   ]
  },
  {
   "cell_type": "markdown",
   "metadata": {},
   "source": [
    "#### This notebook contains some Hackerrank problems that I solved for fun. I hope this will help you prepare for your interview. The solution is not optimized):"
   ]
  },
  {
   "cell_type": "markdown",
   "metadata": {},
   "source": [
    "# Library"
   ]
  },
  {
   "cell_type": "code",
   "execution_count": 6,
   "metadata": {},
   "outputs": [],
   "source": [
    "import math\n",
    "import os\n",
    "import random\n",
    "import re\n",
    "import sys"
   ]
  },
  {
   "cell_type": "markdown",
   "metadata": {},
   "source": [
    "# Variables"
   ]
  },
  {
   "cell_type": "code",
   "execution_count": null,
   "metadata": {},
   "outputs": [],
   "source": []
  },
  {
   "cell_type": "code",
   "execution_count": null,
   "metadata": {},
   "outputs": [],
   "source": []
  },
  {
   "cell_type": "code",
   "execution_count": null,
   "metadata": {},
   "outputs": [],
   "source": []
  },
  {
   "cell_type": "code",
   "execution_count": null,
   "metadata": {},
   "outputs": [],
   "source": []
  },
  {
   "cell_type": "markdown",
   "metadata": {},
   "source": [
    "# Army Game"
   ]
  },
  {
   "cell_type": "markdown",
   "metadata": {},
   "source": [
    "#### Subject"
   ]
  },
  {
   "cell_type": "markdown",
   "metadata": {},
   "source": [
    "<img src=\"./HackerRankFile/armyGame1.png\" alt=\"Problem_1\" style=\"height: 900px; width:900px;\"/>\n",
    "<img src=\"./HackerRankFile/armyGame0.png\" alt=\"Problem_0\" style=\"height: 900px; width:900px;\"/>"
   ]
  },
  {
   "cell_type": "markdown",
   "metadata": {},
   "source": [
    "#### Solution"
   ]
  },
  {
   "cell_type": "code",
   "execution_count": null,
   "metadata": {},
   "outputs": [],
   "source": [
    "#\n",
    "# Complete the 'gameWithCells' function below.\n",
    "#\n",
    "# The function is expected to return an INTEGER.\n",
    "# The function accepts following parameters:\n",
    "#  1. INTEGER n\n",
    "#  2. INTEGER m\n",
    "#\n",
    "def gameWithCells(n, m):\n",
    "    \"\"\"\n",
    "        Solution\n",
    "    \"\"\"\n",
    "    # Write your code here\n",
    "    if((n%2 == 1) and (m%2 == 1) and (n>1) and (m>1)):\n",
    "        return int(((n-1)*(m-1))/4)+int(m/2)+(m%2)+int(n/2)\n",
    "    if((n == 1) and (m%2 == 1) and(m>1)):\n",
    "        return int(m/2)+1\n",
    "    if((m == 1) and (n%2 == 1) and(n>1)):\n",
    "        return int(n/2)+1\n",
    "    if(n%2 == 1):\n",
    "        return int(((n-1)*m)/4)+int(m/2)+(m%2)\n",
    "    if(m%2 == 1):\n",
    "        return int((n*(m-1))/4)+int(n/2)+(n%2)\n",
    "    return max(int((n*m)/4),1)\n",
    "\n",
    "\n",
    "if __name__ == '__main__':\n",
    "    fptr = open(os.environ['OUTPUT_PATH'], 'w')\n",
    "\n",
    "    first_multiple_input = input().rstrip().split()\n",
    "\n",
    "    n = int(first_multiple_input[0])\n",
    "\n",
    "    m = int(first_multiple_input[1])\n",
    "\n",
    "    result = gameWithCells(n, m)\n",
    "\n",
    "    fptr.write(str(result) + '\\n')\n",
    "\n",
    "    fptr.close()"
   ]
  },
  {
   "cell_type": "markdown",
   "metadata": {},
   "source": [
    "# Fizz Buzz"
   ]
  },
  {
   "cell_type": "markdown",
   "metadata": {},
   "source": [
    "#### Subject"
   ]
  },
  {
   "cell_type": "markdown",
   "metadata": {},
   "source": [
    "<img src=\"./HackerRankFile/fizzBuzz0.png\" alt=\"Problem_1\" style=\"height: 900px; width:900px;\"/>\n",
    "<img src=\"./HackerRankFile/fizzBuzz1.png\" alt=\"Problem_0\" style=\"height: 900px; width:900px;\"/>"
   ]
  },
  {
   "cell_type": "markdown",
   "metadata": {},
   "source": [
    "#### Solution"
   ]
  },
  {
   "cell_type": "code",
   "execution_count": null,
   "metadata": {},
   "outputs": [],
   "source": [
    "to do"
   ]
  },
  {
   "cell_type": "markdown",
   "metadata": {},
   "source": [
    "# Twins"
   ]
  },
  {
   "cell_type": "markdown",
   "metadata": {},
   "source": [
    "#### Subject"
   ]
  },
  {
   "cell_type": "markdown",
   "metadata": {},
   "source": [
    "<img src=\"./HackerRankFile/twins0.png\" alt=\"Problem_0\" style=\"height: 900px; width:900px;\"/>"
   ]
  },
  {
   "cell_type": "markdown",
   "metadata": {},
   "source": [
    "#### Solution"
   ]
  },
  {
   "cell_type": "code",
   "execution_count": null,
   "metadata": {},
   "outputs": [],
   "source": [
    "#!/bin/python3\n",
    "import math\n",
    "import os\n",
    "import random\n",
    "import re\n",
    "import sys\n",
    "\n",
    "#\n",
    "# Complete the 'solve' function below.\n",
    "#\n",
    "# The function is expected to return an INTEGER.\n",
    "# The function accepts following parameters:\n",
    "#  1. INTEGER n\n",
    "#  2. INTEGER m\n",
    "#\n",
    "\n",
    "    \n",
    "def is_prime(n):\n",
    "    if n <= 1:\n",
    "        return False\n",
    "    if n == 2:\n",
    "        return True\n",
    "    if n > 2 and n % 2 == 0:\n",
    "        return False\n",
    " \n",
    "    max_div = math.floor(math.sqrt(n))\n",
    "    for i in range(3, 1 + max_div, 2):\n",
    "        if n % i == 0:\n",
    "            return False\n",
    "    return True\n",
    "\n",
    "    \n",
    "def SieveOfEratosthenes(minimum_primary, n):\n",
    "    prime = [True for i in range(n+1)]\n",
    "    list_primafry_number = []\n",
    "    p = 2\n",
    "    while(p * p <= n):\n",
    "        if (prime[p] == True):\n",
    "            for i in range(p * p, n + 1, p):\n",
    "                prime[i] = False\n",
    "        p += 1\n",
    " \n",
    "    for p in range(max(minimum_primary,2), n):\n",
    "        if prime[p]:\n",
    "            list_primafry_number.append(p)\n",
    "    return list_primafry_number\n",
    "\n",
    "    \n",
    "    \n",
    "def solve(n, m):\n",
    "    # Write your code here\n",
    "    number_of_tiws = 0\n",
    "    list_values_all = SieveOfEratosthenes(max(n,2), m+1) # sorted(list_values_all)\n",
    "\n",
    "    for first_value in list_values_all:\n",
    "        if(first_value+2 in list_values_all):\n",
    "            number_of_tiws+=1\n",
    "    return number_of_tiws\n",
    "        \n",
    "\n",
    "if __name__ == '__main__':\n",
    "    fptr = open(os.environ['OUTPUT_PATH'], 'w')\n",
    "\n",
    "    first_multiple_input = input().rstrip().split()\n",
    "\n",
    "    n = int(first_multiple_input[0])\n",
    "\n",
    "    m = int(first_multiple_input[1])\n",
    "\n",
    "    result = solve(n, m)\n",
    "\n",
    "    fptr.write(str(result) + '\\n')\n",
    "\n",
    "    fptr.close()"
   ]
  },
  {
   "cell_type": "markdown",
   "metadata": {},
   "source": [
    "# Correlation and Regression Lines - A Quick Recap #1"
   ]
  },
  {
   "cell_type": "markdown",
   "metadata": {},
   "source": [
    "#### Subject"
   ]
  },
  {
   "cell_type": "markdown",
   "metadata": {},
   "source": [
    "<img src=\"./HackerRankFile/CorrelationAndRegressionLines.png\" alt=\"Correlation And Regression Lines\" style=\"height: 900px; width:900px;\"/>"
   ]
  },
  {
   "cell_type": "markdown",
   "metadata": {},
   "source": [
    "#### Solution"
   ]
  },
  {
   "cell_type": "code",
   "execution_count": null,
   "metadata": {},
   "outputs": [],
   "source": [
    "import math\n",
    "\n",
    "\n",
    "def mean_list(list_to_mean):\n",
    "    \"\"\"\n",
    "    \"\"\"\n",
    "    return sum(list_to_mean)/len(list_to_mean)\n",
    "\n",
    "\n",
    "def different_between_two_vector(first_vector, second_vector):\n",
    "    \"\"\"\n",
    "    \"\"\"\n",
    "    result_diff = []\n",
    "    \n",
    "    for one_values in range(len(first_vector)):\n",
    "        result_diff.append(first_vector[one_values]-second_vector[one_values])\n",
    "    return result_diff\n",
    "\n",
    "\n",
    "def product_between_two_vector(first_vector, second_vector):\n",
    "    \"\"\"\n",
    "    \"\"\"\n",
    "    result_diff = []\n",
    "    \n",
    "    for one_values in range(len(first_vector)):\n",
    "        result_diff.append(first_vector[one_values]*second_vector[one_values])\n",
    "    return result_diff\n",
    "\n",
    "\n",
    "\n",
    "def karl_pearson_correlation(first_vector, second_vector):\n",
    "    \"\"\"\n",
    "        uses this function to comput Karl Pearson Correlation\n",
    "    \"\"\"\n",
    "\n",
    "    tamp1 = sum(product_between_two_vector(different_between_two_vector(first_vector,len(first_vector)*[mean_list(first_vector)]), different_between_two_vector(second_vector,len(second_vector)*[mean_list(second_vector)])))\n",
    "    tampon_values_first = different_between_two_vector(first_vector,len(first_vector)*[mean_list(first_vector)])\n",
    "    tampon_values_second = different_between_two_vector(second_vector,len(second_vector)*[mean_list(second_vector)])\n",
    "    tamp2 = math.sqrt(sum(product_between_two_vector(tampon_values_first,tampon_values_first))*sum(product_between_two_vector(tampon_values_second,tampon_values_second)))\n",
    "    if (tamp2 == 0.0):\n",
    "        if (first_vector == second_vector):\n",
    "            return 1.0\n",
    "        else:\n",
    "            return 0.0\n",
    "\n",
    "    return tamp1/tamp2\n",
    "\n",
    "first_vector = [15, 12, 8, 8, 7, 7, 7, 6, 5, 3]\n",
    "second_vector = [10, 25, 17, 11, 13, 17, 20, 13, 9, 15]\n",
    "print('%.3f' % round(karl_pearson_correlation(first_vector, second_vector),3))"
   ]
  },
  {
   "cell_type": "markdown",
   "metadata": {},
   "source": [
    "# Day 6: Multiple Linear Regression: Predicting House Prices"
   ]
  },
  {
   "cell_type": "markdown",
   "metadata": {},
   "source": [
    "#### Subject"
   ]
  },
  {
   "cell_type": "markdown",
   "metadata": {},
   "source": [
    "<img src=\"./HackerRankFile/Day6MultipleLinearRegressionPredictingHousePrices_0.png\" alt=\"Day 6: Multiple Linear Regression: Predicting House Prices 0\" style=\"height: 900px; width:900px;\"/>\n",
    "<img src=\"./HackerRankFile/Day6MultipleLinearRegressionPredictingHousePrices_1.png\" alt=\"Day 6: Multiple Linear Regression: Predicting House Prices 1\" style=\"height: 900px; width:900px;\"/>\n",
    "<img src=\"./HackerRankFile/Day6MultipleLinearRegressionPredictingHousePrices_2.png\" alt=\"Day 6: Multiple Linear Regression: Predicting House Prices 2\" style=\"height: 900px; width:900px;\"/>"
   ]
  },
  {
   "cell_type": "markdown",
   "metadata": {},
   "source": [
    "#### Solution"
   ]
  },
  {
   "cell_type": "code",
   "execution_count": null,
   "metadata": {},
   "outputs": [],
   "source": [
    "to do"
   ]
  },
  {
   "cell_type": "markdown",
   "metadata": {},
   "source": [
    "# Correlation and Regression Lines - A Quick Recap #2"
   ]
  },
  {
   "cell_type": "markdown",
   "metadata": {},
   "source": [
    "#### Subject"
   ]
  },
  {
   "cell_type": "markdown",
   "metadata": {},
   "source": [
    "<img src=\"./HackerRankFile/CorrelationRegressionLinesAQuickRecap.png\" alt=\"Correlation Regression Lines A Quick Recap\" style=\"height: 900px; width:900px;\"/>"
   ]
  },
  {
   "cell_type": "markdown",
   "metadata": {},
   "source": [
    "#### Solution"
   ]
  },
  {
   "cell_type": "code",
   "execution_count": 142,
   "metadata": {},
   "outputs": [
    {
     "name": "stdout",
     "output_type": "stream",
     "text": [
      "0.208\n"
     ]
    }
   ],
   "source": [
    "# Enter your code here. Read input from STDIN. Print output to STDOUT\n",
    "import math\n",
    "\n",
    "def mean_list(list_to_mean):\n",
    "    \"\"\"\n",
    "    \"\"\"\n",
    "    return sum(list_to_mean)/len(list_to_mean)\n",
    "\n",
    "def different_between_two_vector(first_vector, second_vector):\n",
    "    \"\"\"\n",
    "    \"\"\"\n",
    "    result_diff = []\n",
    "    \n",
    "    for one_values in range(len(first_vector)):\n",
    "        result_diff.append(first_vector[one_values]-second_vector[one_values])\n",
    "    return result_diff\n",
    "\n",
    "\n",
    "def product_between_two_vector(first_vector, second_vector):\n",
    "    \"\"\"\n",
    "    \"\"\"\n",
    "    result_diff = []\n",
    "    \n",
    "    for one_values in range(len(first_vector)):\n",
    "        result_diff.append(first_vector[one_values]*second_vector[one_values])\n",
    "    return result_diff\n",
    "\n",
    "    \n",
    "def compute_slope_regression(X, Y):\n",
    "    \"\"\"\n",
    "    \"\"\"\n",
    "    \n",
    "    #slope = 1\n",
    "    mean_x = mean_list(X)\n",
    "    mean_y = mean_list(Y)\n",
    "    return sum(product_between_two_vector(different_between_two_vector(X, len(X)*[mean_x]), different_between_two_vector(Y, len(Y)*[mean_y])))/sum(product_between_two_vector(different_between_two_vector(X, len(X)*[mean_x]), different_between_two_vector(X, len(X)*[mean_x])))    \n",
    "\n",
    "    \n",
    "physics_scores = [15, 12, 8, 8, 7, 7, 7, 6, 5, 3]\n",
    "history_scores = [10, 25, 17, 11, 13, 17, 20, 13, 9, 15]\n",
    "print('%.3f' % round(compute_slope_regression(physics_scores, history_scores),3))"
   ]
  },
  {
   "cell_type": "markdown",
   "metadata": {},
   "source": [
    "# Camel Case 4"
   ]
  },
  {
   "cell_type": "markdown",
   "metadata": {},
   "source": [
    "#### Subject"
   ]
  },
  {
   "cell_type": "markdown",
   "metadata": {},
   "source": [
    "<img src=\"./HackerRankFile/CamelCase40.png\" alt=\"Camel Case 4 0\" style=\"height: 900px; width:900px;\"/>\n",
    "<img src=\"./HackerRankFile/CamelCase41.png\" alt=\"Camel Case 4 1\" style=\"height: 900px; width:900px;\"/>"
   ]
  },
  {
   "cell_type": "markdown",
   "metadata": {},
   "source": [
    "#### Solution"
   ]
  },
  {
   "cell_type": "code",
   "execution_count": null,
   "metadata": {},
   "outputs": [],
   "source": [
    "# Enter your code here. Read input from STDIN. Print output to STDOUT\n",
    "import re\n",
    "import os\n",
    " \n",
    "\n",
    "\n",
    "def camel_case_four(input_string):\n",
    "    \"\"\"\n",
    "    \"\"\"\n",
    "    \n",
    "    result_string = \"\"\n",
    "    split_input_result = input_string.split(\";\")\n",
    "    if(split_input_result[0] == \"S\"):\n",
    "        if(split_input_result[1] == \"C\"):\n",
    "            result_split_regex = re.findall('[A-Z][^A-Z]*', split_input_result[2])\n",
    "            #result_string = result_split_regex[0].lower()+\" \"+result_split_regex[1].lower()\n",
    "            result_string = result_split_regex[0].lower()\n",
    "            for one_result in range(1, len(result_split_regex)):\n",
    "                result_string += \" \"+result_split_regex[one_result].lower()\n",
    "        if(split_input_result[1] == \"M\"):\n",
    "            result_split_regex = re.split('(?=[A-Z])', split_input_result[2])\n",
    "            result_string = result_split_regex[0].lower()\n",
    "            for one_result in range(1, len(result_split_regex)):\n",
    "                result_string += \" \"+result_split_regex[one_result].lower()\n",
    "            result_string = result_string[:-2].lower()\n",
    "        if(split_input_result[1] == \"V\"):\n",
    "            result_split_regex = re.split('(?=[A-Z])', split_input_result[2])\n",
    "            result_string = result_split_regex[0].lower()\n",
    "            for one_result in range(1, len(result_split_regex)):\n",
    "                result_string += \" \"+result_split_regex[one_result].lower()\n",
    "            \n",
    "    if(split_input_result[0] == \"C\"):\n",
    "        result_split_regex = split_input_result[2].split(\" \")\n",
    "        if(split_input_result[1] == \"C\"):\n",
    "            for one_result in result_split_regex:\n",
    "                result_string += one_result[0].upper()+one_result[1:].lower()\n",
    "        if(split_input_result[1] == \"M\"):\n",
    "            result_string = result_split_regex[0].lower()\n",
    "            for one_result in range(1, len(result_split_regex)):\n",
    "                result_string += result_split_regex[one_result][0].upper()+result_split_regex[one_result][1:]\n",
    "            result_string +=\"()\"\n",
    "        if(split_input_result[1] == \"V\"):\n",
    "            result_string = result_split_regex[0].lower()\n",
    "            for one_result in range(1, len(result_split_regex)):\n",
    "                result_string += result_split_regex[one_result][0].upper()+result_split_regex[one_result][1:]\n",
    "    return result_string\n",
    "\n",
    "    \n",
    "fptr = open(os.environ['OUTPUT_PATH'], 'w')\n",
    "while True:\n",
    "    try:\n",
    "        first_multiple_input = input().rstrip().split()\n",
    "    except:\n",
    "        break\n",
    "    n = \" \".join(first_multiple_input)\n",
    "    result = camel_case_four(n)\n",
    "    fptr.write(str(result) + '\\n')\n",
    "fptr.close()"
   ]
  },
  {
   "cell_type": "code",
   "execution_count": null,
   "metadata": {},
   "outputs": [],
   "source": [
    "# Correlation and Regression Lines - A Quick Recap #1"
   ]
  },
  {
   "cell_type": "code",
   "execution_count": null,
   "metadata": {},
   "outputs": [],
   "source": [
    "#### Subject"
   ]
  },
  {
   "cell_type": "code",
   "execution_count": null,
   "metadata": {},
   "outputs": [],
   "source": [
    "<img src=\"./HackerRankFile/CorrelationAndRegressionLines.png\" alt=\"Correlation And Regression Lines\" style=\"height: 900px; width:900px;\"/>"
   ]
  },
  {
   "cell_type": "code",
   "execution_count": null,
   "metadata": {},
   "outputs": [],
   "source": [
    "#### Solution"
   ]
  },
  {
   "cell_type": "code",
   "execution_count": null,
   "metadata": {},
   "outputs": [],
   "source": [
    "to do"
   ]
  },
  {
   "cell_type": "code",
   "execution_count": null,
   "metadata": {},
   "outputs": [],
   "source": [
    "# Correlation and Regression Lines - A Quick Recap #1"
   ]
  },
  {
   "cell_type": "code",
   "execution_count": null,
   "metadata": {},
   "outputs": [],
   "source": [
    "#### Subject"
   ]
  },
  {
   "cell_type": "code",
   "execution_count": null,
   "metadata": {},
   "outputs": [],
   "source": [
    "<img src=\"./HackerRankFile/CorrelationAndRegressionLines.png\" alt=\"Correlation And Regression Lines\" style=\"height: 900px; width:900px;\"/>"
   ]
  },
  {
   "cell_type": "code",
   "execution_count": null,
   "metadata": {},
   "outputs": [],
   "source": [
    "#### Solution"
   ]
  },
  {
   "cell_type": "code",
   "execution_count": null,
   "metadata": {},
   "outputs": [],
   "source": [
    "to do"
   ]
  },
  {
   "cell_type": "code",
   "execution_count": null,
   "metadata": {},
   "outputs": [],
   "source": []
  },
  {
   "cell_type": "code",
   "execution_count": null,
   "metadata": {},
   "outputs": [],
   "source": []
  },
  {
   "cell_type": "code",
   "execution_count": null,
   "metadata": {},
   "outputs": [],
   "source": []
  },
  {
   "cell_type": "code",
   "execution_count": null,
   "metadata": {},
   "outputs": [],
   "source": []
  },
  {
   "cell_type": "code",
   "execution_count": null,
   "metadata": {},
   "outputs": [],
   "source": []
  },
  {
   "cell_type": "code",
   "execution_count": null,
   "metadata": {},
   "outputs": [],
   "source": []
  },
  {
   "cell_type": "code",
   "execution_count": null,
   "metadata": {},
   "outputs": [],
   "source": []
  },
  {
   "cell_type": "code",
   "execution_count": null,
   "metadata": {},
   "outputs": [],
   "source": []
  },
  {
   "cell_type": "code",
   "execution_count": null,
   "metadata": {},
   "outputs": [],
   "source": []
  },
  {
   "cell_type": "code",
   "execution_count": null,
   "metadata": {},
   "outputs": [],
   "source": []
  },
  {
   "cell_type": "code",
   "execution_count": null,
   "metadata": {},
   "outputs": [],
   "source": []
  },
  {
   "cell_type": "code",
   "execution_count": null,
   "metadata": {},
   "outputs": [],
   "source": []
  },
  {
   "cell_type": "code",
   "execution_count": null,
   "metadata": {},
   "outputs": [],
   "source": [
    "\n"
   ]
  },
  {
   "cell_type": "code",
   "execution_count": null,
   "metadata": {},
   "outputs": [],
   "source": []
  },
  {
   "cell_type": "code",
   "execution_count": null,
   "metadata": {},
   "outputs": [],
   "source": []
  },
  {
   "cell_type": "code",
   "execution_count": null,
   "metadata": {},
   "outputs": [],
   "source": []
  },
  {
   "cell_type": "code",
   "execution_count": null,
   "metadata": {},
   "outputs": [],
   "source": []
  },
  {
   "cell_type": "code",
   "execution_count": null,
   "metadata": {},
   "outputs": [],
   "source": []
  },
  {
   "cell_type": "code",
   "execution_count": null,
   "metadata": {},
   "outputs": [],
   "source": []
  },
  {
   "cell_type": "code",
   "execution_count": null,
   "metadata": {},
   "outputs": [],
   "source": []
  },
  {
   "cell_type": "code",
   "execution_count": null,
   "metadata": {},
   "outputs": [],
   "source": []
  },
  {
   "cell_type": "code",
   "execution_count": null,
   "metadata": {},
   "outputs": [],
   "source": []
  },
  {
   "cell_type": "code",
   "execution_count": null,
   "metadata": {},
   "outputs": [],
   "source": []
  },
  {
   "cell_type": "code",
   "execution_count": 140,
   "metadata": {},
   "outputs": [
    {
     "name": "stdout",
     "output_type": "stream",
     "text": [
      "0.208\n"
     ]
    }
   ],
   "source": [
    "# Enter your code here. Read input from STDIN. Print output to STDOUT\n",
    "#import numpy as np\n",
    "import math\n",
    "\n",
    "\n",
    "def mean_list(list_to_mean):\n",
    "    \"\"\"\n",
    "    \"\"\"\n",
    "    return sum(list_to_mean)/len(list_to_mean)\n",
    "\n",
    "def different_between_two_vector(first_vector, second_vector):\n",
    "    \"\"\"\n",
    "    \"\"\"\n",
    "    result_diff = []\n",
    "    \n",
    "    for one_values in range(len(first_vector)):\n",
    "        result_diff.append(first_vector[one_values]-second_vector[one_values])\n",
    "    return result_diff\n",
    "\n",
    "\n",
    "def product_between_two_vector(first_vector, second_vector):\n",
    "    \"\"\"\n",
    "    \"\"\"\n",
    "    result_diff = []\n",
    "    \n",
    "    for one_values in range(len(first_vector)):\n",
    "        result_diff.append(first_vector[one_values]*second_vector[one_values])\n",
    "    return result_diff\n",
    "\n",
    "    \n",
    "def compute_slope_regression(X, Y):\n",
    "    \"\"\"\n",
    "    \"\"\"\n",
    "    \n",
    "    #slope = 1\n",
    "    mean_x = mean_list(X)\n",
    "    mean_y = mean_list(Y)\n",
    "    return sum(product_between_two_vector(different_between_two_vector(X, len(X)*[mean_x]), different_between_two_vector(Y, len(Y)*[mean_y])))/sum(product_between_two_vector(different_between_two_vector(X, len(X)*[mean_x]), different_between_two_vector(X, len(X)*[mean_x])))    \n",
    "\n",
    "    \n",
    "physics_scores = [15, 12, 8, 8, 7, 7, 7, 6, 5, 3]\n",
    "history_scores = [10, 25, 17, 11, 13, 17, 20, 13, 9, 15]\n",
    "print('%.3f' % round(compute_slope_regression(physics_scores, history_scores),3))"
   ]
  },
  {
   "cell_type": "code",
   "execution_count": 3,
   "metadata": {},
   "outputs": [],
   "source": [
    "# Enter your code here. Read input from STDIN. Print output to STDOUT\n",
    "import re\n",
    "import os\n",
    " \n",
    "\n",
    "\n",
    "def camel_case_four(input_string):\n",
    "    \"\"\"\n",
    "    \"\"\"\n",
    "    \n",
    "    result_string = \"\"\n",
    "    split_input_result = input_string.split(\";\")\n",
    "    if(split_input_result[0] == \"S\"):\n",
    "        if(split_input_result[1] == \"C\"):\n",
    "            result_split_regex = re.findall('[A-Z][^A-Z]*', split_input_result[2])\n",
    "            #result_string = result_split_regex[0].lower()+\" \"+result_split_regex[1].lower()\n",
    "            result_string = result_split_regex[0].lower()\n",
    "            for one_result in range(1, len(result_split_regex)):\n",
    "                result_string += \" \"+result_split_regex[one_result].lower()\n",
    "        if(split_input_result[1] == \"M\"):\n",
    "            result_split_regex = re.split('(?=[A-Z])', split_input_result[2])\n",
    "            result_string = result_split_regex[0].lower()\n",
    "            for one_result in range(1, len(result_split_regex)):\n",
    "                result_string += \" \"+result_split_regex[one_result].lower()\n",
    "            result_string = result_string[:-2].lower()\n",
    "        if(split_input_result[1] == \"V\"):\n",
    "            result_split_regex = re.split('(?=[A-Z])', split_input_result[2])\n",
    "            result_string = result_split_regex[0].lower()\n",
    "            for one_result in range(1, len(result_split_regex)):\n",
    "                result_string += \" \"+result_split_regex[one_result].lower()\n",
    "            \n",
    "    if(split_input_result[0] == \"C\"):\n",
    "        result_split_regex = split_input_result[2].split(\" \")\n",
    "        if(split_input_result[1] == \"C\"):\n",
    "            for one_result in result_split_regex:\n",
    "                result_string += one_result[0].upper()+one_result[1:].lower()\n",
    "        if(split_input_result[1] == \"M\"):\n",
    "            result_string = result_split_regex[0].lower()\n",
    "            for one_result in range(1, len(result_split_regex)):\n",
    "                result_string += result_split_regex[one_result][0].upper()+result_split_regex[one_result][1:]\n",
    "            result_string +=\"()\"\n",
    "        if(split_input_result[1] == \"V\"):\n",
    "            result_string = result_split_regex[0].lower()\n",
    "            for one_result in range(1, len(result_split_regex)):\n",
    "                result_string += result_split_regex[one_result][0].upper()+result_split_regex[one_result][1:]\n",
    "    return result_string\n",
    "\n",
    "    \n",
    "fptr = open(os.environ['OUTPUT_PATH'], 'w')\n",
    "while True:\n",
    "    try:\n",
    "        first_multiple_input = input().rstrip().split()\n",
    "    except:\n",
    "        break\n",
    "    n = \" \".join(first_multiple_input)\n",
    "    result = camel_case_four(n)\n",
    "    fptr.write(str(result) + '\\n')\n",
    "fptr.close()"
   ]
  },
  {
   "cell_type": "code",
   "execution_count": 4,
   "metadata": {},
   "outputs": [
    {
     "name": "stdout",
     "output_type": "stream",
     "text": [
      "plastic cup\n",
      "mobilePhone\n",
      "CoffeeMachine\n",
      "large software book\n",
      "whiteSheetOfPaper()\n",
      "picture frame\n"
     ]
    }
   ],
   "source": [
    "print(camel_case_four(\"S;M;plasticCup()\"))\n",
    "print(camel_case_four(\"C;V;mobile phone\"))\n",
    "print(camel_case_four(\"C;C;coffee machine\"))\n",
    "print(camel_case_four(\"S;C;LargeSoftwareBook\"))\n",
    "print(camel_case_four(\"C;M;white sheet of paper\"))\n",
    "print(camel_case_four(\"S;V;pictureFrame\"))"
   ]
  },
  {
   "cell_type": "code",
   "execution_count": 5,
   "metadata": {},
   "outputs": [
    {
     "name": "stdout",
     "output_type": "stream",
     "text": [
      "i pad\n",
      "mousePad()\n",
      "CodeSwarm\n",
      "orange highlighter\n"
     ]
    }
   ],
   "source": [
    "print(camel_case_four(\"S;V;iPad\"))\n",
    "print(camel_case_four(\"C;M;mouse pad\"))\n",
    "print(camel_case_four(\"C;C;code swarm\"))\n",
    "print(camel_case_four(\"S;C;OrangeHighlighter\"))"
   ]
  },
  {
   "cell_type": "code",
   "execution_count": null,
   "metadata": {},
   "outputs": [],
   "source": []
  },
  {
   "cell_type": "code",
   "execution_count": null,
   "metadata": {},
   "outputs": [],
   "source": []
  },
  {
   "cell_type": "code",
   "execution_count": null,
   "metadata": {},
   "outputs": [],
   "source": []
  },
  {
   "cell_type": "code",
   "execution_count": null,
   "metadata": {},
   "outputs": [],
   "source": []
  },
  {
   "cell_type": "code",
   "execution_count": 72,
   "metadata": {},
   "outputs": [],
   "source": []
  },
  {
   "cell_type": "code",
   "execution_count": 77,
   "metadata": {},
   "outputs": [],
   "source": []
  },
  {
   "cell_type": "code",
   "execution_count": null,
   "metadata": {},
   "outputs": [],
   "source": []
  },
  {
   "cell_type": "code",
   "execution_count": null,
   "metadata": {},
   "outputs": [],
   "source": []
  },
  {
   "cell_type": "code",
   "execution_count": null,
   "metadata": {},
   "outputs": [],
   "source": []
  },
  {
   "cell_type": "code",
   "execution_count": null,
   "metadata": {},
   "outputs": [],
   "source": []
  }
 ],
 "metadata": {
  "kernelspec": {
   "display_name": "Python 3",
   "language": "python",
   "name": "python3"
  },
  "language_info": {
   "codemirror_mode": {
    "name": "ipython",
    "version": 3
   },
   "file_extension": ".py",
   "mimetype": "text/x-python",
   "name": "python",
   "nbconvert_exporter": "python",
   "pygments_lexer": "ipython3",
   "version": "3.7.6"
  }
 },
 "nbformat": 4,
 "nbformat_minor": 4
}
